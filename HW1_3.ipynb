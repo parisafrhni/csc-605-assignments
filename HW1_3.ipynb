{
  "cells": [
    {
      "cell_type": "markdown",
      "metadata": {
        "id": "view-in-github",
        "colab_type": "text"
      },
      "source": [
        "<a href=\"https://colab.research.google.com/github/parisafrhni/csc-605-assignments/blob/main/HW1_3.ipynb\" target=\"_parent\"><img src=\"https://colab.research.google.com/assets/colab-badge.svg\" alt=\"Open In Colab\"/></a>"
      ]
    },
    {
      "cell_type": "markdown",
      "metadata": {
        "id": "M3r7ituPmTQ0"
      },
      "source": [
        "### Step 1) Reading the file and storing it in a list:\n",
        "\n",
        "Following information provided in (https://earthly.dev/blog/csv-python/), a \".tsv\" file can be read. Here, I'll import \"csv\" libaray and use \".reader()\" method. I also used \".open()\" method to open the \".tsv\" file by providing file name as first argument and \"r\" as second argument to say the I want to read the file. \".reader()\" method will read the file row by row. So, I need to write a for loop (or list comprehension) to store each row as an element of a list (student_list).\n",
        "\n",
        "I know my file contains header and I don't nead the header information afterwards. So, I'll update the student list by skiping the first element (header)."
      ]
    },
    {
      "cell_type": "code",
      "execution_count": 4,
      "metadata": {
        "id": "ECOjt6IOmTQ2"
      },
      "outputs": [],
      "source": [
        "import csv\n",
        "with open(\"fall-22-students.tsv\", 'r') as file:\n",
        "  csvreader = csv.reader(file)\n",
        "  student_list = [row for row in csvreader] # read rows using list comprehension\n",
        "\n",
        "file.close()\n",
        "student_list = student_list[1:] # skip the header from student list"
      ]
    },
    {
      "cell_type": "markdown",
      "metadata": {
        "id": "HNeZaiI-mTQ2"
      },
      "source": [
        "### Step 2) Define a function to create a list that contains size of all teams:\n",
        "\n",
        "Here, I'll define a function that takes student list and number of teams as arguments. I am assuming that:\n",
        "\n",
        "- Each team should have at least one member. So, number of students cannot be less than number of teams! \n",
        "\n",
        "- When the number of student is divisible by number of teams. Teams will have the same size.\n",
        "\n",
        "- When the number of student is not divisible by number of teams. Some students may not be assigned to a team at first. The number of these students is equal to the remainder of number of student divided by number of teams. We should randomly split those students among teams.\n",
        "\n",
        "Some other notes:\n",
        "\n",
        "Team sizes should be in integer format beacuse later I will use \".sample()\" method to randomly select team members and this method takes integer values as input.\n",
        "\n"
      ]
    },
    {
      "cell_type": "code",
      "execution_count": 5,
      "metadata": {
        "id": "thp3cYLTmTQ3"
      },
      "outputs": [],
      "source": [
        "def team_sizes(student_list,number_of_teams):    \n",
        "    number_of_students = len(student_list)\n",
        "    if number_of_students<number_of_teams:\n",
        "        print(\"Number of students cannot be less than number of teams! Each team should have at least one member.\")\n",
        "    else:\n",
        "        each_team_size = int((number_of_students - number_of_students%number_of_teams)/number_of_teams)\n",
        "        number_of_students_without_team = int(number_of_students%number_of_teams)\n",
        "        if number_of_students_without_team == 0: # teams would have the same size \n",
        "            list_of_temas_sizes = [each_team_size]*number_of_teams\n",
        "        else: # teams would have different sizes\n",
        "            list_of_temas_sizes = [each_team_size]*number_of_teams\n",
        "            team_numbers_with_more_members = random.sample(range(number_of_teams), number_of_students_without_team)\n",
        "            for item in (team_numbers_with_more_members):\n",
        "                list_of_temas_sizes[item] = list_of_temas_sizes[item] + 1\n",
        "        return(list_of_temas_sizes)       \n",
        "        "
      ]
    },
    {
      "cell_type": "markdown",
      "metadata": {
        "id": "297ClUiCmTQ3"
      },
      "source": [
        "### Step 3) Print students information and their team id.\n",
        "\n",
        "Here, I will print the list of students and their team id in a for loop. The code is explained below:\n",
        "\n",
        "- First team id is 1 but it is updated in for loop and can go up to the number of students.\n",
        "- A temp list is defined to be updated in the for loop. I will call this selection list. This list contains list of students that have not been assigned to a team. temp list is initially the student list. However, when a student is randomly selected from the student list, it will be removed from temp list. This way, I kind of update selection list (tmp list) without changing the orginal list. \n",
        "- I used \".sample()\" method of \"random\" library to randomly select students from student list without replacement.\n",
        "- \".sample()\" method requires two elements. First element is selection list or \"tmp\" and second element is the number of elements (team size) that should be selected from selection list. \n",
        "- I looked at https://pynative.com/python-random-sample/#:~:text=Python's%20random%20module%20provides%20a,it%20random%20sampling%20without%20replacement. to read about random library.\n",
        "- In writing this script I did not know how to print a list as integer. I wanted to print each member that was stored as list. So I used the code provided in this link  https://www.simplilearn.com/tutorials/python-tutorial/list-to-string-in-python (' '.join(member)) to do that.\n",
        "- please update number_of_teams variable each time you need to assign students to their teams!\n"
      ]
    },
    {
      "cell_type": "code",
      "execution_count": 6,
      "metadata": {
        "colab": {
          "base_uri": "https://localhost:8080/"
        },
        "id": "CUBbubCCmTQ3",
        "outputId": "e959af45-3d2d-4890-9987-144efb85dcaa"
      },
      "outputs": [
        {
          "output_type": "stream",
          "name": "stdout",
          "text": [
            "Teri  Benjamin\t8158995515482271942is in team:1\n",
            "Gabbula  Venkata Vijay Krishna\t2274622967677883996is in team:1\n",
            "Shou  Wenhao\t2262113024811264944is in team:1\n",
            "Kuluri  Manichandana\t-9113492615128308341is in team:1\n",
            "Farahani  Parisa\t-782669854885580552is in team:1\n",
            "Darandale  Aditi\t-3592947821904789059is in team:2\n",
            "Gayam  Sai Santosh Reddy\t-2863333019251892158is in team:2\n",
            "Nimmaturi  Sai Swapnika\t8871653806563935680is in team:2\n",
            "Havalchi  Mufaddal\t5556700921407775642is in team:2\n",
            "Shah  Manish\t4333100139881963958is in team:3\n",
            "Patil  Deeksha\t7980120123048414705is in team:3\n",
            "Budavi  Priyanka\t609722887760680710is in team:3\n",
            "Arasikere Rakesh  Raveena\t2715387848376511785is in team:3\n",
            "Annamalai  Varsha\t2732727504348557328is in team:3\n",
            "Gabbula  Sai Ram Ajay Krishna\t3430638400286662722is in team:4\n",
            "Vidapu  Aman Tej\t7347350608443768573is in team:4\n",
            "Doerr  Maximilian\t-241870194234947188is in team:4\n",
            "Veeramaneni  Varsha\t-1090991306239913969is in team:4\n",
            "Abisiga  Mojeed\t1756748071387330450is in team:4\n",
            "Gunde  Deeksha\t4069553384325267097is in team:5\n",
            "Nezianya  Ndubuisi\t-1868760087748791974is in team:5\n",
            "Potlapally  Shruti Nandana\t6680005440180066297is in team:5\n",
            "Kallem  Snehith\t296389889114347009is in team:5\n"
          ]
        }
      ],
      "source": [
        "import random\n",
        "number_of_teams = 5 # should be updated ! \n",
        "list_of_temas_sizes = team_sizes(student_list,number_of_teams) # calculate the size of different teams\n",
        "team_id = 1\n",
        "tmp = student_list\n",
        "for team_size in list_of_temas_sizes: # assing memebers to each team\n",
        "    team = random.sample(tmp,team_size) # randomly select students based on team size from student list\n",
        "    tmp = [item for item in tmp if item not in team ] # remove selected students from selection list\n",
        "    for member in team:\n",
        "        print (' '.join(member) + 'is in team:' + str(team_id))\n",
        "    team_id = team_id + 1"
      ]
    },
    {
      "cell_type": "code",
      "execution_count": 7,
      "metadata": {
        "colab": {
          "base_uri": "https://localhost:8080/"
        },
        "id": "LPXkRjIQmTQ4",
        "outputId": "404655e5-1b8a-499e-cb31-72fc5f83d7ad"
      },
      "outputs": [
        {
          "output_type": "execute_result",
          "data": {
            "text/plain": [
              "[5, 4, 5, 5, 4]"
            ]
          },
          "metadata": {},
          "execution_count": 7
        }
      ],
      "source": [
        "list_of_temas_sizes"
      ]
    }
  ],
  "metadata": {
    "kernelspec": {
      "display_name": "Python 3",
      "language": "python",
      "name": "python3"
    },
    "language_info": {
      "codemirror_mode": {
        "name": "ipython",
        "version": 3
      },
      "file_extension": ".py",
      "mimetype": "text/x-python",
      "name": "python",
      "nbconvert_exporter": "python",
      "pygments_lexer": "ipython3",
      "version": "3.7.3"
    },
    "colab": {
      "provenance": [],
      "include_colab_link": true
    }
  },
  "nbformat": 4,
  "nbformat_minor": 0
}